{
 "cells": [
  {
   "cell_type": "code",
   "execution_count": 5,
   "id": "0f27b00b-430b-4b2f-b8aa-80a8adb688af",
   "metadata": {},
   "outputs": [],
   "source": [
    "def expand(listin):\n",
    "    threadname: str = listin[0]\n",
    "    processedin = listin[1:]\n",
    "    processedin1 = [int(x) for x in processedin]\n",
    "    listout = []\n",
    "    listout.extend(\"-\"*processedin1[0])\n",
    "    listout.extend(\"c\"*processedin1[1])\n",
    "    listout.extend(\"i\"*processedin1[2])\n",
    "    listout.extend(\"c\"*processedin1[3])\n",
    "    listout.extend(\"i\"*processedin1[4])\n",
    "    listout.extend(\"c\"*processedin1[5])\n",
    "    return listout"
   ]
  },
  {
   "cell_type": "code",
   "execution_count": 6,
   "id": "4596b940-b992-47c1-b757-af1aa9fe3e42",
   "metadata": {},
   "outputs": [],
   "source": [
    "def read_file(filename):\n",
    "        raw_data = []\n",
    "        with open(filename, 'r') as f:\n",
    "            for line in f:\n",
    "                raw_data.append(line.strip().split(','))\n",
    "        return(raw_data)\n",
    "    \n",
    "        "
   ]
  },
  {
   "cell_type": "code",
   "execution_count": 7,
   "id": "24e375d2-93e3-4c0e-86b2-5e9a31346dcd",
   "metadata": {},
   "outputs": [],
   "source": [
    "def compute_job_size(process_spec):\n",
    "    job_size = [5]\n",
    "    job_size.append((int(process_spec[4])+job_size[0])/2.0)\n",
    "    job_size.append((int(process_spec[6])+job_size[1])/2.0)\n",
    "    return(job_size)"
   ]
  },
  {
   "cell_type": "code",
   "execution_count": 12,
   "id": "8b6a3ebf-84d3-4bae-ab52-d5c35379d29e",
   "metadata": {},
   "outputs": [],
   "source": [
    "raw_data = read_file(\"data0.csv\")\n",
    "p1_job_sizes = compute_job_size(raw_data[0])\n",
    "p2_job_sizes = compute_job_size(raw_data[1])\n",
    "p3_job_sizes = compute_job_size(raw_data[2])\n",
    "job_sizes = [p1_job_sizes, p2_job_sizes, p3_job_sizes]\n",
    "p1_expanded = expand(raw_data[0])\n",
    "p2_expanded = expand(raw_data[1])\n",
    "p3_expanded = expand(raw_data[2])\n",
    "expanded = [p1_expanded, p2_expanded, p3_expanded]"
   ]
  },
  {
   "cell_type": "code",
   "execution_count": 14,
   "id": "d4ad8d4f-d311-436b-9a02-8cfd81139348",
   "metadata": {},
   "outputs": [
    {
     "data": {
      "text/plain": [
       "[[5, 3.0, 2.0], [5, 3.0, 2.0], [5, 3.0, 2.0]]"
      ]
     },
     "execution_count": 14,
     "metadata": {},
     "output_type": "execute_result"
    }
   ],
   "source": [
    "job_sizes"
   ]
  },
  {
   "cell_type": "code",
   "execution_count": 79,
   "id": "86f4f970-1166-4d87-9ef5-14ddcd21a845",
   "metadata": {},
   "outputs": [],
   "source": []
  },
  {
   "cell_type": "code",
   "execution_count": 2,
   "id": "8aaf792c",
   "metadata": {},
   "outputs": [],
   "source": [
    "def get_local_state(tick, process):\n",
    "    if tick == 0:\n",
    "        new_status = local_states[tick][process]\n",
    "        return {status: new_status, local_tick: 0}\n",
    "    else:\n",
    "        prev_local_tick = timeline[tick-1][\"local_tick\"]\n",
    "        new_status = local_states[tick - prev_local_tick]\n",
    "        return {status: new_status, local_tick: prev_local_tick+1}\n",
    "            "
   ]
  },
  {
   "cell_type": "markdown",
   "id": "27485863",
   "metadata": {},
   "source": [
    "timeline is an array indexed by ticks\n",
    "each tick contains another array of three (nprocesses) entries\n",
    "each entry is a dict with two keys:\n",
    "status: \"-\", \"c\", \"r\", \"w\"\n",
    "local_tick: integer\n",
    "The local tick is the tick number index into that processes expanded_local_state: which is the expansion of the original data file"
   ]
  },
  {
   "cell_type": "code",
   "execution_count": null,
   "id": "4909dd42-ce91-45a0-b385-f6ee54fbf037",
   "metadata": {},
   "outputs": [],
   "source": [
    "def add_process_tick_to_timeline(tick, process):\n",
    "    if tick > 0:\n",
    "        previous = timeline[tick-1][process]\n",
    "        local_tick = previous[\"local_tick\"]\n",
    "    "
   ]
  },
  {
   "cell_type": "code",
   "execution_count": 19,
   "id": "f9c7d84b-f0d5-49f6-9be4-94a8cc1483e3",
   "metadata": {},
   "outputs": [],
   "source": [
    "timeline = []"
   ]
  },
  {
   "cell_type": "code",
   "execution_count": 71,
   "id": "1c30fdec-056e-4bf2-83c3-c32eee05bc26",
   "metadata": {},
   "outputs": [],
   "source": [
    "def add_tick_to_timeline(tick):\n",
    "    new_row = []\n",
    "    if tick > 0:\n",
    "        previous_tick = timeline[tick-1]\n",
    "        for index, value in enumerate(previous_tick):\n",
    "            new_status = expanded[index][tick+value[\"local_tick\"]]\n",
    "            new_local_tick = expanded[index][tick+value[\"local_tick\"]]\n",
    "            new_row.append({\"status\": new_status, \"local_tick\": new_local_tick})\n",
    "    else:\n",
    "        new_row = [{\"status\": \"-\", \"local_tick\": 0},{\"status\": \"-\", \"local_tick\": 0},{\"status\": \"-\", \"local_tick\": 0}]\n",
    "    return(new_row)        \n",
    "        "
   ]
  },
  {
   "cell_type": "code",
   "execution_count": 67,
   "id": "d4a3d107-d186-484d-bc53-ce0b2ebcef30",
   "metadata": {},
   "outputs": [],
   "source": [
    "timeline.append(add_tick_to_timeline(1))"
   ]
  },
  {
   "cell_type": "code",
   "execution_count": 73,
   "id": "d632635a-c7ff-462e-8abb-1aeb056731af",
   "metadata": {},
   "outputs": [
    {
     "data": {
      "text/plain": [
       "[[{'status': '-', 'local_tick': 0},\n",
       "  {'status': '-', 'local_tick': 0},\n",
       "  {'status': '-', 'local_tick': 0}],\n",
       " [{'status': 'c', 'local_tick': 12},\n",
       "  {'status': 'c', 'local_tick': 12},\n",
       "  {'status': 'c', 'local_tick': 12}]]"
      ]
     },
     "execution_count": 73,
     "metadata": {},
     "output_type": "execute_result"
    }
   ],
   "source": [
    "timeline = []\n",
    "timeline.append(add_tick_to_timeline(0))\n",
    "timeline.append(add_tick_to_timeline(1))\n",
    "timeline\n"
   ]
  },
  {
   "cell_type": "code",
   "execution_count": 68,
   "id": "f9789cfd-54e1-4ae5-a58b-ab63ac146518",
   "metadata": {},
   "outputs": [
    {
     "data": {
      "text/plain": [
       "[[{'status': '-', 'local_tick': 0},\n",
       "  {'status': '-', 'local_tick': 0},\n",
       "  {'status': '-', 'local_tick': 0}],\n",
       " [{'status': 'X', 'local_tick': 12},\n",
       "  {'status': 'X', 'local_tick': 12},\n",
       "  {'status': 'X', 'local_tick': 12}]]"
      ]
     },
     "execution_count": 68,
     "metadata": {},
     "output_type": "execute_result"
    }
   ],
   "source": [
    "timeline"
   ]
  },
  {
   "cell_type": "code",
   "execution_count": null,
   "id": "f578c0f1-064e-4763-a14a-f9e4164b1528",
   "metadata": {},
   "outputs": [],
   "source": [
    "def whoshouldrun(tick):\n",
    "    nextrun = None\n",
    "    for index, value in enumerate(timeline[tick]):\n",
    "        if nextrun is None and expanded[index][tick] == \"c\":\n",
    "            nextrun = index\n"
   ]
  },
  {
   "cell_type": "code",
   "execution_count": 81,
   "id": "a43c0c9c-b91d-4581-8f5a-7110fe818171",
   "metadata": {},
   "outputs": [
    {
     "name": "stdout",
     "output_type": "stream",
     "text": [
      "-\n",
      "-\n",
      "-\n",
      "-\n",
      "-\n",
      "ERROR\n",
      "ERROR\n",
      "ERROR\n",
      "ERROR\n",
      "ERROR\n",
      "ERROR\n",
      "ERROR\n",
      "ERROR\n",
      "ERROR\n",
      "ERROR\n",
      "ERROR\n",
      "terminated\n"
     ]
    }
   ],
   "source": [
    "tick = 0\n",
    "running = None\n",
    "timeline = []\n",
    "\n",
    "while (running != \"terminated\"):\n",
    "    runcandidate = whoshouldrun(tick)\n",
    "    print(runcandidate)\n",
    "    running = runcandidate\n",
    "    tick += 1\n",
    "    "
   ]
  },
  {
   "cell_type": "code",
   "execution_count": null,
   "id": "e105f2f7-27fb-4524-84f7-288aceeea38d",
   "metadata": {},
   "outputs": [],
   "source": [
    "def whoshouldrun(tick):\n",
    "    if tick >= len(expanded[0]) or tick >= len(expanded[1]) or tick >= len(expanded[2]):\n",
    "        return(\"terminated\")\n",
    "    e = [expanded[0][tick], expanded[1][tick], expanded[2][tick]]\n",
    "    if e[0] == \"-\" and e[1] == \"-\" and e[2] == \"-\":\n",
    "        return(\"-\")\n",
    "    if e[0] == \"-\" and e[1] == \"-\" and e[2] == \"c\":\n",
    "        return(\"p3\")\n",
    "    else:\n",
    "        return(\"ERROR\")\n",
    "    "
   ]
  }
 ],
 "metadata": {
  "kernelspec": {
   "display_name": "Python 3 (ipykernel)",
   "language": "python",
   "name": "python3"
  },
  "language_info": {
   "codemirror_mode": {
    "name": "ipython",
    "version": 3
   },
   "file_extension": ".py",
   "mimetype": "text/x-python",
   "name": "python",
   "nbconvert_exporter": "python",
   "pygments_lexer": "ipython3",
   "version": "3.11.5"
  }
 },
 "nbformat": 4,
 "nbformat_minor": 5
}
