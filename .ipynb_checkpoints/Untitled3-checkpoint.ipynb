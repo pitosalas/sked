{
 "cells": [
  {
   "cell_type": "code",
   "execution_count": 2,
   "id": "addd63c5-b95c-4d59-b6cf-75d8b8170efa",
   "metadata": {},
   "outputs": [
    {
     "data": {
      "text/html": [
       "<pre style=\"white-space:pre;overflow-x:auto;line-height:normal;font-family:Menlo,'DejaVu Sans Mono',consolas,'Courier New',monospace\">┏━━━━━━━━┳━━━━━━━━━━━━━━━━┳━━━━━━━┓\n",
       "┃<span style=\"font-weight: bold\"> Row ID </span>┃<span style=\"font-weight: bold\"> Description    </span>┃<span style=\"font-weight: bold\"> Level </span>┃\n",
       "┡━━━━━━━━╇━━━━━━━━━━━━━━━━╇━━━━━━━┩\n",
       "│ 0      │ description 0  │ <span style=\"color: #800000; text-decoration-color: #800000\">ERROR</span> │\n",
       "│ 1      │ description 1  │ <span style=\"color: #800000; text-decoration-color: #800000\">ERROR</span> │\n",
       "│ 2      │ description 2  │ <span style=\"color: #800000; text-decoration-color: #800000\">ERROR</span> │\n",
       "│ 3      │ description 3  │ <span style=\"color: #800000; text-decoration-color: #800000\">ERROR</span> │\n",
       "│ 4      │ description 4  │ <span style=\"color: #800000; text-decoration-color: #800000\">ERROR</span> │\n",
       "│ 5      │ description 5  │ <span style=\"color: #800000; text-decoration-color: #800000\">ERROR</span> │\n",
       "│ 6      │ description 6  │ <span style=\"color: #800000; text-decoration-color: #800000\">ERROR</span> │\n",
       "│ 7      │ description 7  │ <span style=\"color: #800000; text-decoration-color: #800000\">ERROR</span> │\n",
       "│ 8      │ description 8  │ <span style=\"color: #800000; text-decoration-color: #800000\">ERROR</span> │\n",
       "│ 9      │ description 9  │ <span style=\"color: #800000; text-decoration-color: #800000\">ERROR</span> │\n",
       "│ 10     │ description 10 │ <span style=\"color: #800000; text-decoration-color: #800000\">ERROR</span> │\n",
       "└────────┴────────────────┴───────┘\n",
       "</pre>\n"
      ],
      "text/plain": [
       "┏━━━━━━━━┳━━━━━━━━━━━━━━━━┳━━━━━━━┓\n",
       "┃\u001b[1m \u001b[0m\u001b[1mRow ID\u001b[0m\u001b[1m \u001b[0m┃\u001b[1m \u001b[0m\u001b[1mDescription   \u001b[0m\u001b[1m \u001b[0m┃\u001b[1m \u001b[0m\u001b[1mLevel\u001b[0m\u001b[1m \u001b[0m┃\n",
       "┡━━━━━━━━╇━━━━━━━━━━━━━━━━╇━━━━━━━┩\n",
       "│ 0      │ description 0  │ \u001b[31mERROR\u001b[0m │\n",
       "│ 1      │ description 1  │ \u001b[31mERROR\u001b[0m │\n",
       "│ 2      │ description 2  │ \u001b[31mERROR\u001b[0m │\n",
       "│ 3      │ description 3  │ \u001b[31mERROR\u001b[0m │\n",
       "│ 4      │ description 4  │ \u001b[31mERROR\u001b[0m │\n",
       "│ 5      │ description 5  │ \u001b[31mERROR\u001b[0m │\n",
       "│ 6      │ description 6  │ \u001b[31mERROR\u001b[0m │\n",
       "│ 7      │ description 7  │ \u001b[31mERROR\u001b[0m │\n",
       "│ 8      │ description 8  │ \u001b[31mERROR\u001b[0m │\n",
       "│ 9      │ description 9  │ \u001b[31mERROR\u001b[0m │\n",
       "│ 10     │ description 10 │ \u001b[31mERROR\u001b[0m │\n",
       "└────────┴────────────────┴───────┘\n"
      ]
     },
     "metadata": {},
     "output_type": "display_data"
    },
    {
     "data": {
      "text/html": [
       "<pre style=\"white-space:pre;overflow-x:auto;line-height:normal;font-family:Menlo,'DejaVu Sans Mono',consolas,'Courier New',monospace\"></pre>\n"
      ],
      "text/plain": []
     },
     "metadata": {},
     "output_type": "display_data"
    }
   ],
   "source": [
    "import time\n",
    "from rich.live import Live\n",
    "from rich.table import Table\n",
    "\n",
    "table = Table()\n",
    "table.add_column(\"Row ID\")\n",
    "table.add_column(\"Description\")\n",
    "table.add_column(\"Level\")\n",
    "\n",
    "console = Console()\n",
    "\n",
    "with Live(console, refresh_per_second=4):  # update 4 times a second to feel fluid\n",
    "    for row in range(12):\n",
    "        time.sleep(0.4)  # arbitrary delay\n",
    "        # update the renderable internally\n",
    "       console.print(row)"
   ]
  }
 ],
 "metadata": {
  "kernelspec": {
   "display_name": "Python 3 (ipykernel)",
   "language": "python",
   "name": "python3"
  },
  "language_info": {
   "codemirror_mode": {
    "name": "ipython",
    "version": 3
   },
   "file_extension": ".py",
   "mimetype": "text/x-python",
   "name": "python",
   "nbconvert_exporter": "python",
   "pygments_lexer": "ipython3",
   "version": "3.11.5"
  }
 },
 "nbformat": 4,
 "nbformat_minor": 5
}
