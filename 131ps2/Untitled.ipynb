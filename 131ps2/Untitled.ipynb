{
 "cells": [
  {
   "cell_type": "code",
   "execution_count": 12,
   "id": "0f27b00b-430b-4b2f-b8aa-80a8adb688af",
   "metadata": {},
   "outputs": [],
   "source": [
    "def expand(listin):\n",
    "    threadname: str = listin[0]\n",
    "    processedin = listin[1:]\n",
    "    processedin1 = [int(x) for x in processedin]\n",
    "    listout = []\n",
    "    listout.extend(\"-\"*processedin1[0])\n",
    "    listout.extend(\"c\"*processedin1[1])\n",
    "    listout.extend(\"i\"*processedin1[2])\n",
    "    listout.extend(\"c\"*processedin1[3])\n",
    "    listout.extend(\"i\"*processedin1[4])\n",
    "    listout.extend(\"c\"*processedin1[5])\n",
    "    return listout\n"
   ]
  },
  {
   "cell_type": "code",
   "execution_count": 18,
   "id": "4596b940-b992-47c1-b757-af1aa9fe3e42",
   "metadata": {},
   "outputs": [],
   "source": [
    "def read_file(filename):\n",
    "        raw_data = []\n",
    "        with open(filename, 'r') as f:\n",
    "            for line in f:\n",
    "                raw_data.append(line.strip().split(','))\n",
    "        return(raw_data)\n",
    "    \n",
    "        "
   ]
  },
  {
   "cell_type": "code",
   "execution_count": 34,
   "id": "24e375d2-93e3-4c0e-86b2-5e9a31346dcd",
   "metadata": {},
   "outputs": [],
   "source": [
    "def compute_job_size(process_spec):\n",
    "    job_size = [5]\n",
    "    job_size.append((int(process_spec[4])+job_size[0])/2.0)\n",
    "    job_size.append((int(process_spec[6])+job_size[1])/2.0)\n",
    "    return(job_size)"
   ]
  },
  {
   "cell_type": "code",
   "execution_count": 46,
   "id": "729c74e2-fb64-4dc9-bb37-19ac7ebd55a0",
   "metadata": {},
   "outputs": [
    {
     "data": {
      "text/plain": [
       "True"
      ]
     },
     "execution_count": 46,
     "metadata": {},
     "output_type": "execute_result"
    }
   ],
   "source": [
    "a = [1,2,1]\n",
    "all([True, True, True])"
   ]
  },
  {
   "cell_type": "code",
   "execution_count": 49,
   "id": "8b6a3ebf-84d3-4bae-ab52-d5c35379d29e",
   "metadata": {},
   "outputs": [],
   "source": [
    "raw_data = read_file(\"data1.csv\")\n",
    "p1_job_sizes = compute_job_size(raw_data[0])\n",
    "p2_job_sizes = compute_job_size(raw_data[1])\n",
    "p3_job_sizes = compute_job_size(raw_data[2])\n",
    "job_sizes = [p1_job_sizes, p2_job_sizes, p3_job_sizes]\n",
    "p1_expanded = expand(raw_data[0])\n",
    "p2_expanded = expand(raw_data[1])\n",
    "p3_expanded = expand(raw_data[2])\n",
    "expanded = [p1_expanded, p2_expanded, p3_expanded]"
   ]
  },
  {
   "cell_type": "code",
   "execution_count": 79,
   "id": "86f4f970-1166-4d87-9ef5-14ddcd21a845",
   "metadata": {},
   "outputs": [],
   "source": [
    "def whoshouldrun(tick):\n",
    "    if tick >= len(expanded[0]) or tick >= len(expanded[1]) or tick >= len(expanded[2]):\n",
    "        return(\"terminated\")\n",
    "    e = [expanded[0][tick], expanded[1][tick], expanded[2][tick]]\n",
    "    if e[0] == \"-\" and e[1] == \"-\" and e[2] == \"-\":\n",
    "        return(\"-\")\n",
    "    if e[0] == \"-\" and e[1] == \"-\" and e[2] == \"c\":\n",
    "        return(\"p3\")\n",
    "    else:\n",
    "        return(\"ERROR\")\n",
    "    "
   ]
  },
  {
   "cell_type": "code",
   "execution_count": 80,
   "id": "ba9645b8-8b91-4286-9305-4c1f96858005",
   "metadata": {},
   "outputs": [],
   "source": [
    "# if only one is true, then that is the runner#\n",
    "# if more than one is true, then find the one with the "
   ]
  },
  {
   "cell_type": "code",
   "execution_count": 81,
   "id": "a43c0c9c-b91d-4581-8f5a-7110fe818171",
   "metadata": {},
   "outputs": [
    {
     "name": "stdout",
     "output_type": "stream",
     "text": [
      "-\n",
      "-\n",
      "-\n",
      "-\n",
      "-\n",
      "ERROR\n",
      "ERROR\n",
      "ERROR\n",
      "ERROR\n",
      "ERROR\n",
      "ERROR\n",
      "ERROR\n",
      "ERROR\n",
      "ERROR\n",
      "ERROR\n",
      "ERROR\n",
      "terminated\n"
     ]
    }
   ],
   "source": [
    "tick = 0\n",
    "running = None\n",
    "\n",
    "while (running != \"terminated\"):\n",
    "    runcandidate = whoshouldrun(tick)\n",
    "    print(runcandidate)\n",
    "    running = runcandidate\n",
    "    tick += 1\n",
    "    "
   ]
  },
  {
   "cell_type": "code",
   "execution_count": null,
   "id": "e105f2f7-27fb-4524-84f7-288aceeea38d",
   "metadata": {},
   "outputs": [],
   "source": []
  }
 ],
 "metadata": {
  "kernelspec": {
   "display_name": "Python 3 (ipykernel)",
   "language": "python",
   "name": "python3"
  },
  "language_info": {
   "codemirror_mode": {
    "name": "ipython",
    "version": 3
   },
   "file_extension": ".py",
   "mimetype": "text/x-python",
   "name": "python",
   "nbconvert_exporter": "python",
   "pygments_lexer": "ipython3",
   "version": "3.11.5"
  }
 },
 "nbformat": 4,
 "nbformat_minor": 5
}
